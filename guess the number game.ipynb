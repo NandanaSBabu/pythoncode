{
 "cells": [
  {
   "cell_type": "code",
   "execution_count": 1,
   "id": "55384781",
   "metadata": {},
   "outputs": [
    {
     "name": "stdout",
     "output_type": "stream",
     "text": [
      "guess a number between 1 and 20:3\n",
      "Computer's number is 12\n",
      "\n",
      "Your guess is wrong.\n",
      "guess another number between 1 and 20:4\n",
      "\n",
      "\n",
      "Your guess is wrong.\n",
      "guess another number between 1 and 20:15\n",
      "\n",
      "\n",
      "Your guess is wrong.\n",
      "guess another number between 1 and 20:6\n",
      "\n",
      "\n",
      "Your guess is wrong.\n",
      "guess another number between 1 and 20:8\n",
      "\n",
      "\n",
      "Limit Reached\n"
     ]
    }
   ],
   "source": [
    "import random\n",
    "number=random.randint(1,20)\n",
    "\n",
    "guess=int(input(\"guess a number between 1 and 20:\"))\n",
    "print(\"Computer's number is\",number)\n",
    "i=1\n",
    "if number!=guess:\n",
    "    for i in range(1,5):\n",
    "        if number!=guess:\n",
    "            print()\n",
    "            print(f\"Your guess is wrong.\")\n",
    "            guess=int(input(\"guess another number between 1 and 20:\"))\n",
    "            print()\n",
    "        else:\n",
    "            break\n",
    "            \n",
    "            \n",
    "    if i==4:\n",
    "        print()\n",
    "        print(\"Sorry...Limit Reached.\")"
   ]
  },
  {
   "cell_type": "code",
   "execution_count": null,
   "id": "cd0df17e",
   "metadata": {},
   "outputs": [],
   "source": []
  },
  {
   "cell_type": "code",
   "execution_count": null,
   "id": "57ecf8b3",
   "metadata": {},
   "outputs": [],
   "source": []
  }
 ],
 "metadata": {
  "kernelspec": {
   "display_name": "Python 3 (ipykernel)",
   "language": "python",
   "name": "python3"
  },
  "language_info": {
   "codemirror_mode": {
    "name": "ipython",
    "version": 3
   },
   "file_extension": ".py",
   "mimetype": "text/x-python",
   "name": "python",
   "nbconvert_exporter": "python",
   "pygments_lexer": "ipython3",
   "version": "3.11.4"
  }
 },
 "nbformat": 4,
 "nbformat_minor": 5
}
