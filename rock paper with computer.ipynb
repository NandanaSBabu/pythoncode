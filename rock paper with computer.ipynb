{
 "cells": [
  {
   "cell_type": "code",
   "execution_count": null,
   "id": "b9f4a0ca",
   "metadata": {},
   "outputs": [
    {
     "name": "stdout",
     "output_type": "stream",
     "text": [
      "Welcome to the game!\n",
      "R for rock\n",
      "P for paper\n",
      "S for scissor\n"
     ]
    }
   ],
   "source": [
    "import random\n",
    "print(\"Welcome to the game!\")\n",
    "m_c=0\n",
    "m_p=0\n",
    "\n",
    "print(\"R for rock\\nP for paper\\nS for scissor\")\n",
    "\n",
    "x=int(input(\"enter how many times that you want to play with computer:\"))\n",
    "print()\n",
    "for i in range(x):\n",
    "    choice=random.randint(0,2)\n",
    "    if choice==0:\n",
    "        computer_choice=\"R\"\n",
    "    elif choice==1:\n",
    "        computer_choice=\"P\"\n",
    "    else:\n",
    "        computer_choice=\"S\"\n",
    "#player's choice\n",
    "    player_choice=input(\"This is your turn.Enter your choice:(R/P/S)\")\n",
    "    print(\"Computer choice:\",computer_choice)\n",
    "    print()\n",
    "    \n",
    "    if computer_choice=='R':\n",
    "        if player_choice=='P':\n",
    "            m_p+=1\n",
    "        elif player_choice=='S':\n",
    "            m_c+=1\n",
    "        else:\n",
    "            continue\n",
    "            \n",
    "    if computer_choice=='P':\n",
    "        if player_choice=='R':\n",
    "            m_c+=1\n",
    "        elif player_choice=='S':\n",
    "            m_p+=1\n",
    "        else:\n",
    "            continue\n",
    "    \n",
    "    if computer_choice=='S':\n",
    "        if player_choice=='P':\n",
    "            m_c+=1\n",
    "        elif player_choice=='R':\n",
    "            m_p+=1\n",
    "        else:\n",
    "            continue\n",
    "    \n",
    "print()\n",
    "print(\"total mark of computer is \",m_c)\n",
    "print(\"total mark of player is \",m_p)\n",
    "print()\n",
    "if m_c>m_p:\n",
    "    print(\"Ooh... Better luck next time\")\n",
    "elif m_p>m_c:\n",
    "    print(\"Congrats!You are the winner\")\n",
    "elif m_c==m_p:\n",
    "    print(\"Draw...\")\n"
   ]
  },
  {
   "cell_type": "code",
   "execution_count": null,
   "id": "d8016556",
   "metadata": {},
   "outputs": [],
   "source": []
  },
  {
   "cell_type": "code",
   "execution_count": null,
   "id": "e8ee15b3",
   "metadata": {},
   "outputs": [],
   "source": []
  }
 ],
 "metadata": {
  "kernelspec": {
   "display_name": "Python 3 (ipykernel)",
   "language": "python",
   "name": "python3"
  },
  "language_info": {
   "codemirror_mode": {
    "name": "ipython",
    "version": 3
   },
   "file_extension": ".py",
   "mimetype": "text/x-python",
   "name": "python",
   "nbconvert_exporter": "python",
   "pygments_lexer": "ipython3",
   "version": "3.11.4"
  }
 },
 "nbformat": 4,
 "nbformat_minor": 5
}
